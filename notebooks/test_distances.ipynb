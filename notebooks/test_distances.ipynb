{
 "cells": [
  {
   "cell_type": "markdown",
   "metadata": {},
   "source": [
    "# Test script for allocation distance functions #\n",
    "# May provide some insight on studying allocations #\n",
    "# Demonstrates usage of various distance metrics between allocations. #"
   ]
  },
  {
   "cell_type": "markdown",
   "metadata": {},
   "source": []
  },
  {
   "cell_type": "code",
   "execution_count": 10,
   "metadata": {},
   "outputs": [],
   "source": [
    "# Imports\n",
    "import sys\n",
    "import os\n",
    "# Add parent directory to Python path so we can import efx.py and graphs.py\n",
    "sys.path.append(os.path.abspath('..'))\n",
    "import importlib\n",
    "import efx\n",
    "importlib.reload(efx)\n",
    "from efx import *\n",
    "from graphs import *\n",
    "import random\n",
    "import numpy as np"
   ]
  },
  {
   "cell_type": "code",
   "execution_count": 18,
   "metadata": {},
   "outputs": [
    {
     "name": "stdout",
     "output_type": "stream",
     "text": [
      "\n",
      "Testing identical allocations:\n",
      "  swap_distance: 0\n",
      "  normalized_euclidean: 0.0\n",
      "  chebyshev: 0\n",
      "  earth_movers: 0\n",
      "  envy_graph: 0\n",
      "  hamming: 0\n"
     ]
    }
   ],
   "source": [
    "def test_identical_allocations():\n",
    "    \n",
    "    valuations = [[3, 2, 1], [1, 2, 3]]\n",
    "    allocation = [[0, 1], [2]]\n",
    "    \n",
    "    distances = calculate_all_distances(allocation, allocation, valuations)\n",
    "    \n",
    "    print(\"\\nTesting identical allocations:\")\n",
    "    for metric, distance in distances.items():\n",
    "        print(f\"  {metric}: {distance}\")\n",
    "\n",
    "test_identical_allocations()"
   ]
  },
  {
   "cell_type": "code",
   "execution_count": 17,
   "metadata": {},
   "outputs": [
    {
     "name": "stdout",
     "output_type": "stream",
     "text": [
      "Valuations:\n",
      "  Agent 0: [5, 3, 2, 1]\n",
      "  Agent 1: [1, 2, 3, 5]\n",
      "\n",
      "Allocation 1:\n",
      "  Agent 0: [0, 1]\n",
      "  Agent 1: [2, 3]\n",
      "\n",
      "Allocation 2:\n",
      "  Agent 0: [0, 2]\n",
      "  Agent 1: [1, 3]\n",
      "\n",
      "Distance Metrics:\n",
      "  Swap Distance: 1\n",
      "  Normalized Euclidean Distance: 0.1286\n",
      "  Chebyshev Distance: 1\n",
      "  Earth Mover's Distance: 0\n",
      "  Envy Graph Distance: 0\n",
      "  Hamming Distance: 2\n",
      "\n",
      "Utility Analysis:\n",
      "  Agent 0:\n",
      "    Utility in Allocation 1: 8\n",
      "    Utility in Allocation 2: 7\n",
      "    Difference: 1\n",
      "  Agent 1:\n",
      "    Utility in Allocation 1: 8\n",
      "    Utility in Allocation 2: 7\n",
      "    Difference: 1\n"
     ]
    }
   ],
   "source": [
    "def test_distance_functions():\n",
    "    \n",
    "    valuations = [\n",
    "        [5, 3, 2, 1],  \n",
    "        [1, 2, 3, 5]  \n",
    "    ]\n",
    "    \n",
    "    allocation1 = [[0, 1], [2, 3]] \n",
    "    allocation2 = [[0, 2], [1, 3]]\n",
    "    \n",
    "    print(\"Valuations:\")\n",
    "    for i, val in enumerate(valuations):\n",
    "        print(f\"  Agent {i}: {val}\")\n",
    "    \n",
    "    print(\"\\nAllocation 1:\")\n",
    "    for i, bundle in enumerate(allocation1):\n",
    "        print(f\"  Agent {i}: {bundle}\")\n",
    "    \n",
    "    print(\"\\nAllocation 2:\")\n",
    "    for i, bundle in enumerate(allocation2):\n",
    "        print(f\"  Agent {i}: {bundle}\")\n",
    "    \n",
    "    # Calculate all distances\n",
    "    distances = calculate_all_distances(allocation1, allocation2, valuations)\n",
    "    \n",
    "    print(\"\\nDistance Metrics:\")\n",
    "    print(f\"  Swap Distance: {distances['swap_distance']}\")\n",
    "    print(f\"  Normalized Euclidean Distance: {distances['normalized_euclidean']:.4f}\")\n",
    "    print(f\"  Chebyshev Distance: {distances['chebyshev']}\")\n",
    "    print(f\"  Earth Mover's Distance: {distances['earth_movers']}\")\n",
    "    print(f\"  Envy Graph Distance: {distances['envy_graph']}\")\n",
    "    print(f\"  Hamming Distance: {distances['hamming']}\")\n",
    "    \n",
    "    # Show utility calculations for verification\n",
    "    print(\"\\nUtility Analysis:\")\n",
    "    for agent in range(2):\n",
    "        u1 = sum(valuations[agent][item] for item in allocation1[agent])\n",
    "        u2 = sum(valuations[agent][item] for item in allocation2[agent])\n",
    "        print(f\"  Agent {agent}:\")\n",
    "        print(f\"    Utility in Allocation 1: {u1}\")\n",
    "        print(f\"    Utility in Allocation 2: {u2}\")\n",
    "        print(f\"    Difference: {abs(u1 - u2)}\")\n",
    "\n",
    "test_distance_functions()"
   ]
  },
  {
   "cell_type": "code",
   "execution_count": 19,
   "metadata": {},
   "outputs": [
    {
     "name": "stdout",
     "output_type": "stream",
     "text": [
      "\n",
      "Extreme case - completely different allocations:\n",
      "  swap_distance: 2\n",
      "  normalized_euclidean: 0.5962847939999439\n",
      "  chebyshev: 8\n",
      "  earth_movers: 0\n",
      "  envy_graph: 3\n",
      "  hamming: 6\n"
     ]
    }
   ],
   "source": [
    "def test_extreme_cases():\n",
    "    \"\"\"Test extreme cases with more agents and items.\"\"\"\n",
    "    \n",
    "    # 3 agents, 6 items\n",
    "    valuations = [\n",
    "        [5, 4, 3, 2, 1, 0],\n",
    "        [0, 1, 2, 3, 4, 5],\n",
    "        [3, 3, 3, 3, 3, 3]\n",
    "    ]\n",
    "    \n",
    "    # Completely different allocations\n",
    "    allocation1 = [[0, 1], [2, 3], [4, 5]]\n",
    "    allocation2 = [[4, 5], [0, 1], [2, 3]]\n",
    "    \n",
    "    print(\"\\nExtreme case - completely different allocations:\")\n",
    "    distances = calculate_all_distances(allocation1, allocation2, valuations)\n",
    "    for metric, distance in distances.items():\n",
    "        print(f\"  {metric}: {distance}\")\n",
    "\n",
    "test_extreme_cases() "
   ]
  }
 ],
 "metadata": {
  "kernelspec": {
   "display_name": "base",
   "language": "python",
   "name": "python3"
  },
  "language_info": {
   "codemirror_mode": {
    "name": "ipython",
    "version": 3
   },
   "file_extension": ".py",
   "mimetype": "text/x-python",
   "name": "python",
   "nbconvert_exporter": "python",
   "pygments_lexer": "ipython3",
   "version": "3.12.7"
  }
 },
 "nbformat": 4,
 "nbformat_minor": 2
}
